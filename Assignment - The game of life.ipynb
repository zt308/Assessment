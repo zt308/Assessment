{
 "cells": [
  {
   "cell_type": "markdown",
   "metadata": {},
   "source": [
    "The Game of Life is set in an infinite two-dimensional grid inhabited by “cells”. Every cell interacts with up to eight neighbours, which are the cells that are horizontally, vertically, or diagonally adjacent. \n",
    "From an initial seed grid the game \"evolves\" one iteration at a time. An iteration applies rules to the grid to determine its next state."
   ]
  },
  {
   "cell_type": "markdown",
   "metadata": {},
   "source": [
    "Below, I have created a function,'Neighbours', that will work inside my main function, 'Evolves'. I have also included some examples at the end of my code."
   ]
  },
  {
   "cell_type": "code",
   "execution_count": 39,
   "metadata": {},
   "outputs": [
    {
     "name": "stdout",
     "output_type": "stream",
     "text": [
      "[[0 0 0]\n",
      " [1 1 1]\n",
      " [0 0 0]]\n"
     ]
    }
   ],
   "source": [
    "#Creating a starting array where '0' indicates an empty cell and '1' indicates a live cell.\n",
    "import numpy as np\n",
    "y = np.full((3,3),0)\n",
    "#Adjusting the values of y depending on what we want our initial condition to be.\n",
    "y[1][1]='1'\n",
    "y[1][2]='1'\n",
    "y[1][0]='1'\n",
    "print(y)"
   ]
  },
  {
   "cell_type": "code",
   "execution_count": 40,
   "metadata": {},
   "outputs": [
    {
     "name": "stdout",
     "output_type": "stream",
     "text": [
      "[[0 1 0 0 0 0 0 1 0 0]\n",
      " [1 0 1 0 1 0 0 1 1 1]\n",
      " [1 0 0 0 1 0 0 0 1 1]\n",
      " [1 1 1 1 0 0 0 1 1 0]\n",
      " [0 0 1 0 0 0 1 0 0 0]\n",
      " [1 0 0 1 0 0 0 0 0 1]\n",
      " [0 1 1 1 0 1 1 0 0 1]\n",
      " [1 0 0 0 0 1 0 0 0 1]\n",
      " [1 1 0 0 0 0 0 0 0 0]\n",
      " [0 0 0 0 1 0 1 1 0 1]]\n"
     ]
    }
   ],
   "source": [
    "#Creating z to allow us to test a random initial condition.\n",
    "z=np.random.choice([0, 1], size=(10,10))\n",
    "print(z)"
   ]
  },
  {
   "cell_type": "code",
   "execution_count": 45,
   "metadata": {},
   "outputs": [],
   "source": [
    "def Neighbours(y):\n",
    "    #Creating a function that will count the neighbours of a cell and output the values into a matrix.\n",
    "    \n",
    "    height,width = y.shape #Defining the height and width of our y matrix\n",
    "    \n",
    "    #Creating a matrix that adds a border of one around our given y. This will help when we spiral round the cells.\n",
    "    #First, create a matrix of zeros of size y, plus a border of one around the edge. Border values=0.\n",
    "    Bordered_y = np.full((height+2,width+2),0)\n",
    "    Bordered_y[1:height+1,1:width+1]=y #Set the interior region of our bordered matrix to be our matrix y.\n",
    "    neighbourcount = np.full((height,width),0) #Setting an empty matrix for the counts to be added into.\n",
    "    \n",
    "    #Setting initial values\n",
    "    minRow,minCol = 0,0\n",
    "    maxRow,maxCol = 2,2\n",
    "    rowVal,colVal = 0,0\n",
    "    \n",
    "    #Spiralling round the neighbours of each cell..\n",
    "    for i in range(4):\n",
    "        while colVal<maxCol: #moving right along top of spiral\n",
    "            neighbourcount = neighbourcount + Bordered_y[rowVal:height+rowVal,colVal:width+colVal]\n",
    "            colVal += 1\n",
    "\n",
    "        while rowVal<maxRow: #moving down right hand side of spiral\n",
    "            neighbourcount = neighbourcount + Bordered_y[rowVal:height+rowVal,colVal:width+colVal]\n",
    "            rowVal += 1\n",
    "\n",
    "        while colVal>minCol: #moving left along base of spiral\n",
    "            neighbourcount = neighbourcount + Bordered_y[rowVal:height+rowVal,colVal:width+colVal]\n",
    "            colVal -= 1\n",
    "        minRow += 1\n",
    "        maxCol -= 1\n",
    "        while rowVal > minRow: #moving up left hand side of spiral\n",
    "            neighbourcount = neighbourcount + Bordered_y[rowVal:height+rowVal,colVal:width+colVal]\n",
    "            rowVal -= 1\n",
    "        minCol += 1\n",
    "        maxRow -= 1\n",
    "    return neighbourcount #Returning a matrix with the corresponding neighbour count for each cell."
   ]
  },
  {
   "cell_type": "code",
   "execution_count": 46,
   "metadata": {},
   "outputs": [],
   "source": [
    "def Evolves(y,n): \n",
    "    #Creating a function that will grid the game \"evolves\" for our starting grid y and for n iterations.\n",
    "\n",
    "    while n>0:\n",
    "        neighbours=Neighbours(y) #Retrieving the neighbour counts for our grid\n",
    "        \n",
    "        #Scenario 0, No interactions - When there are no live cells, no live cells on next iteration too.\n",
    "        if (y==0).all()==True: #If all the cells in y are dead (=0) then no live cells.\n",
    "            y=y #Hence, no cells created. Grid remains unchanged.\n",
    "\n",
    "        else:\n",
    "            #Scenario 1, Underpopulation - When a live cell has fewer than two neighbours, this cell dies.\n",
    "            for i in range(len(y)): #looking at the rows of y\n",
    "                for j in range(len(y[i])): #looking at columns of y. (Working through each element of y)\n",
    "                    if y[i][j]==1: #Looking at the live cells\n",
    "                        if neighbours[i][j]<2:\n",
    "                            y[i][j]=0\n",
    "                            \n",
    "                    #Scenario 2, Overcrowding - When a live cell has more than three neighbours, it dies.\n",
    "                        if neighbours[i][j]>3:\n",
    "                            y[i][j]=0\n",
    "                            \n",
    "                    #Scenario 3, Survival - When a live cell has two or three neighbours, it stays alive.\n",
    "                    #Leaving cell as is.\n",
    "                    \n",
    "                    #Scenario 4, Creation of life - When an empty position has exactly three neighbouring cells, \n",
    "                    #then a cell is created in this position\n",
    "                    else: #Looking at the empty cells\n",
    "                        if neighbours[i][j]==3:\n",
    "                            y[i][j]=1\n",
    "        n=n-1 #Working through the iterations\n",
    "    print(y)"
   ]
  },
  {
   "cell_type": "code",
   "execution_count": 47,
   "metadata": {},
   "outputs": [
    {
     "name": "stdout",
     "output_type": "stream",
     "text": [
      "[[0 0 0]\n",
      " [1 1 1]\n",
      " [0 0 0]]\n"
     ]
    }
   ],
   "source": [
    "#Testing to see if the function produces the desired outcome.\n",
    "Evolves(y,3)"
   ]
  },
  {
   "cell_type": "code",
   "execution_count": 48,
   "metadata": {},
   "outputs": [
    {
     "name": "stdout",
     "output_type": "stream",
     "text": [
      "[[0 0 0 0 0 0 0 0 0 0]\n",
      " [0 1 0 0 0 0 0 0 0 0]\n",
      " [0 1 1 0 0 0 0 0 0 0]\n",
      " [1 0 1 0 0 0 0 0 0 0]\n",
      " [1 0 0 0 0 0 0 0 0 0]\n",
      " [1 1 0 0 0 0 0 0 0 0]\n",
      " [0 1 0 0 0 0 0 0 0 0]\n",
      " [0 0 0 0 0 0 0 0 0 0]\n",
      " [0 0 0 0 0 0 0 0 0 0]\n",
      " [0 0 0 0 0 0 0 0 0 0]]\n"
     ]
    }
   ],
   "source": [
    "#Example of evolves on a random initial condition.\n",
    "Evolves(z,100)"
   ]
  }
 ],
 "metadata": {
  "kernelspec": {
   "display_name": "Python 3",
   "language": "python",
   "name": "python3"
  },
  "language_info": {
   "codemirror_mode": {
    "name": "ipython",
    "version": 3
   },
   "file_extension": ".py",
   "mimetype": "text/x-python",
   "name": "python",
   "nbconvert_exporter": "python",
   "pygments_lexer": "ipython3",
   "version": "3.7.3"
  }
 },
 "nbformat": 4,
 "nbformat_minor": 2
}
